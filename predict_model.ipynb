{
 "cells": [
  {
   "cell_type": "code",
   "execution_count": null,
   "id": "9efc54ff",
   "metadata": {},
   "outputs": [],
   "source": [
    "import pandas as pd\n",
    "import pickle"
   ]
  },
  {
   "cell_type": "code",
   "execution_count": 263,
   "id": "e6ad3398",
   "metadata": {},
   "outputs": [
    {
     "data": {
      "text/html": [
       "<div>\n",
       "<style scoped>\n",
       "    .dataframe tbody tr th:only-of-type {\n",
       "        vertical-align: middle;\n",
       "    }\n",
       "\n",
       "    .dataframe tbody tr th {\n",
       "        vertical-align: top;\n",
       "    }\n",
       "\n",
       "    .dataframe thead th {\n",
       "        text-align: right;\n",
       "    }\n",
       "</style>\n",
       "<table border=\"1\" class=\"dataframe\">\n",
       "  <thead>\n",
       "    <tr style=\"text-align: right;\">\n",
       "      <th></th>\n",
       "      <th>row_ID</th>\n",
       "      <th>vehicle_manufacturer</th>\n",
       "      <th>vehicle_model</th>\n",
       "      <th>vehicle_category</th>\n",
       "      <th>current_mileage</th>\n",
       "      <th>vehicle_year</th>\n",
       "      <th>vehicle_gearbox_type</th>\n",
       "      <th>doors_cnt</th>\n",
       "      <th>wheels</th>\n",
       "      <th>vehicle_color</th>\n",
       "      <th>vehicle_interior_color</th>\n",
       "      <th>car_vin</th>\n",
       "      <th>car_leather_interior</th>\n",
       "      <th>deal_type</th>\n",
       "      <th>final_price</th>\n",
       "    </tr>\n",
       "  </thead>\n",
       "  <tbody>\n",
       "    <tr>\n",
       "      <th>0</th>\n",
       "      <td>0</td>\n",
       "      <td>TOYOTA</td>\n",
       "      <td>Aqua s</td>\n",
       "      <td>Sedan</td>\n",
       "      <td>133000</td>\n",
       "      <td>2014</td>\n",
       "      <td>Automatic</td>\n",
       "      <td>4/5</td>\n",
       "      <td>Right-hand drive</td>\n",
       "      <td>Silver</td>\n",
       "      <td>Black</td>\n",
       "      <td>NaN</td>\n",
       "      <td>0</td>\n",
       "      <td>For Sale</td>\n",
       "      <td>3650.0</td>\n",
       "    </tr>\n",
       "    <tr>\n",
       "      <th>1</th>\n",
       "      <td>1</td>\n",
       "      <td>MERCEDES-BENZ</td>\n",
       "      <td>C 220</td>\n",
       "      <td>Sedan</td>\n",
       "      <td>24500</td>\n",
       "      <td>2010</td>\n",
       "      <td>Manual</td>\n",
       "      <td>4/5</td>\n",
       "      <td>Left wheel</td>\n",
       "      <td>Silver</td>\n",
       "      <td>Black</td>\n",
       "      <td>NaN</td>\n",
       "      <td>0</td>\n",
       "      <td>For Sale</td>\n",
       "      <td>6800.0</td>\n",
       "    </tr>\n",
       "    <tr>\n",
       "      <th>2</th>\n",
       "      <td>2</td>\n",
       "      <td>HYUNDAI</td>\n",
       "      <td>Veloster</td>\n",
       "      <td>Hatchback</td>\n",
       "      <td>31000</td>\n",
       "      <td>2016</td>\n",
       "      <td>Tiptronic</td>\n",
       "      <td>2/3</td>\n",
       "      <td>Left wheel</td>\n",
       "      <td>Silver</td>\n",
       "      <td>Black</td>\n",
       "      <td>KMHTC6AE3GU293912</td>\n",
       "      <td>1</td>\n",
       "      <td>For Sale</td>\n",
       "      <td>6300.0</td>\n",
       "    </tr>\n",
       "    <tr>\n",
       "      <th>3</th>\n",
       "      <td>3</td>\n",
       "      <td>HYUNDAI</td>\n",
       "      <td>Santa FE</td>\n",
       "      <td>Jeep</td>\n",
       "      <td>115459</td>\n",
       "      <td>2015</td>\n",
       "      <td>Automatic</td>\n",
       "      <td>4/5</td>\n",
       "      <td>Left wheel</td>\n",
       "      <td>Blue</td>\n",
       "      <td>Black</td>\n",
       "      <td>NaN</td>\n",
       "      <td>1</td>\n",
       "      <td>For Sale</td>\n",
       "      <td>14488.0</td>\n",
       "    </tr>\n",
       "    <tr>\n",
       "      <th>4</th>\n",
       "      <td>4</td>\n",
       "      <td>TOYOTA</td>\n",
       "      <td>CHR</td>\n",
       "      <td>Jeep</td>\n",
       "      <td>18950</td>\n",
       "      <td>2019</td>\n",
       "      <td>Automatic</td>\n",
       "      <td>4/5</td>\n",
       "      <td>Left wheel</td>\n",
       "      <td>Black</td>\n",
       "      <td>NaN</td>\n",
       "      <td>JTNKHMBX7K1030253</td>\n",
       "      <td>1</td>\n",
       "      <td>For Sale</td>\n",
       "      <td>5000.0</td>\n",
       "    </tr>\n",
       "  </tbody>\n",
       "</table>\n",
       "</div>"
      ],
      "text/plain": [
       "   row_ID vehicle_manufacturer vehicle_model vehicle_category  \\\n",
       "0       0               TOYOTA        Aqua s            Sedan   \n",
       "1       1        MERCEDES-BENZ         C 220            Sedan   \n",
       "2       2              HYUNDAI      Veloster        Hatchback   \n",
       "3       3              HYUNDAI      Santa FE             Jeep   \n",
       "4       4               TOYOTA           CHR             Jeep   \n",
       "\n",
       "   current_mileage  vehicle_year vehicle_gearbox_type doors_cnt  \\\n",
       "0           133000          2014            Automatic       4/5   \n",
       "1            24500          2010               Manual       4/5   \n",
       "2            31000          2016            Tiptronic       2/3   \n",
       "3           115459          2015            Automatic       4/5   \n",
       "4            18950          2019            Automatic       4/5   \n",
       "\n",
       "                  wheels vehicle_color vehicle_interior_color  \\\n",
       "0    Right-hand drive          Silver                  Black    \n",
       "1           Left wheel         Silver                  Black    \n",
       "2           Left wheel         Silver                  Black    \n",
       "3           Left wheel           Blue                  Black    \n",
       "4           Left wheel          Black                     NaN   \n",
       "\n",
       "               car_vin  car_leather_interior deal_type  final_price  \n",
       "0                  NaN                     0  For Sale       3650.0  \n",
       "1                  NaN                     0  For Sale       6800.0  \n",
       "2   KMHTC6AE3GU293912                      1  For Sale       6300.0  \n",
       "3                  NaN                     1  For Sale      14488.0  \n",
       "4   JTNKHMBX7K1030253                      1  For Sale       5000.0  "
      ]
     },
     "execution_count": 263,
     "metadata": {},
     "output_type": "execute_result"
    }
   ],
   "source": [
    "url = 'https://drive.google.com/uc?export=download&id=1keuahH9Lw6jwEL3BesW25XWuQrzIiiuV'\n",
    "data = pd.read_csv(url)\n",
    "data.head()"
   ]
  },
  {
   "cell_type": "code",
   "execution_count": 264,
   "id": "bf036855",
   "metadata": {},
   "outputs": [
    {
     "name": "stdout",
     "output_type": "stream",
     "text": [
      "<class 'pandas.core.frame.DataFrame'>\n",
      "RangeIndex: 35000 entries, 0 to 34999\n",
      "Data columns (total 15 columns):\n",
      " #   Column                  Non-Null Count  Dtype  \n",
      "---  ------                  --------------  -----  \n",
      " 0   row_ID                  35000 non-null  int64  \n",
      " 1   vehicle_manufacturer    34999 non-null  object \n",
      " 2   vehicle_model           34993 non-null  object \n",
      " 3   vehicle_category        34999 non-null  object \n",
      " 4   current_mileage         35000 non-null  int64  \n",
      " 5   vehicle_year            35000 non-null  int64  \n",
      " 6   vehicle_gearbox_type    34999 non-null  object \n",
      " 7   doors_cnt               34255 non-null  object \n",
      " 8   wheels                  34999 non-null  object \n",
      " 9   vehicle_color           34599 non-null  object \n",
      " 10  vehicle_interior_color  28282 non-null  object \n",
      " 11  car_vin                 11488 non-null  object \n",
      " 12  car_leather_interior    35000 non-null  int64  \n",
      " 13  deal_type               35000 non-null  object \n",
      " 14  final_price             35000 non-null  float64\n",
      "dtypes: float64(1), int64(4), object(10)\n",
      "memory usage: 4.0+ MB\n"
     ]
    }
   ],
   "source": [
    "data.info()"
   ]
  },
  {
   "cell_type": "code",
   "execution_count": 265,
   "id": "2635f6be",
   "metadata": {},
   "outputs": [
    {
     "data": {
      "text/plain": [
       "deal_type\n",
       "For Sale    34372\n",
       "For Rent      628\n",
       "Name: count, dtype: int64"
      ]
     },
     "execution_count": 265,
     "metadata": {},
     "output_type": "execute_result"
    }
   ],
   "source": [
    "data.deal_type.value_counts()"
   ]
  },
  {
   "cell_type": "code",
   "execution_count": 233,
   "id": "bc7689d3",
   "metadata": {},
   "outputs": [],
   "source": [
    "data.drop(data[data.deal_type == 'For Rent'].index, axis=0, inplace = True)"
   ]
  },
  {
   "cell_type": "code",
   "execution_count": 234,
   "id": "6703bbca",
   "metadata": {},
   "outputs": [
    {
     "name": "stdout",
     "output_type": "stream",
     "text": [
      "<class 'pandas.core.frame.DataFrame'>\n",
      "Index: 34372 entries, 0 to 34999\n",
      "Data columns (total 10 columns):\n",
      " #   Column                Non-Null Count  Dtype  \n",
      "---  ------                --------------  -----  \n",
      " 0   vehicle_manufacturer  34371 non-null  object \n",
      " 1   vehicle_category      34371 non-null  object \n",
      " 2   current_mileage       34372 non-null  int64  \n",
      " 3   vehicle_year          34372 non-null  int64  \n",
      " 4   vehicle_gearbox_type  34371 non-null  object \n",
      " 5   doors_cnt             33627 non-null  object \n",
      " 6   wheels                34371 non-null  object \n",
      " 7   vehicle_color         33971 non-null  object \n",
      " 8   car_leather_interior  34372 non-null  int64  \n",
      " 9   final_price           34372 non-null  float64\n",
      "dtypes: float64(1), int64(3), object(6)\n",
      "memory usage: 2.9+ MB\n"
     ]
    }
   ],
   "source": [
    "drop_columns = ['row_ID', 'car_vin', 'vehicle_interior_color', 'deal_type', 'vehicle_model']\n",
    "data.drop(columns=drop_columns, inplace=True)\n",
    "data.info()"
   ]
  },
  {
   "cell_type": "code",
   "execution_count": 235,
   "id": "27ab40b5",
   "metadata": {},
   "outputs": [
    {
     "data": {
      "text/html": [
       "<div>\n",
       "<style scoped>\n",
       "    .dataframe tbody tr th:only-of-type {\n",
       "        vertical-align: middle;\n",
       "    }\n",
       "\n",
       "    .dataframe tbody tr th {\n",
       "        vertical-align: top;\n",
       "    }\n",
       "\n",
       "    .dataframe thead th {\n",
       "        text-align: right;\n",
       "    }\n",
       "</style>\n",
       "<table border=\"1\" class=\"dataframe\">\n",
       "  <thead>\n",
       "    <tr style=\"text-align: right;\">\n",
       "      <th></th>\n",
       "      <th>current_mileage</th>\n",
       "      <th>vehicle_year</th>\n",
       "      <th>car_leather_interior</th>\n",
       "      <th>final_price</th>\n",
       "    </tr>\n",
       "  </thead>\n",
       "  <tbody>\n",
       "    <tr>\n",
       "      <th>count</th>\n",
       "      <td>3.437200e+04</td>\n",
       "      <td>34372.000000</td>\n",
       "      <td>34372.000000</td>\n",
       "      <td>3.437200e+04</td>\n",
       "    </tr>\n",
       "    <tr>\n",
       "      <th>mean</th>\n",
       "      <td>1.907385e+06</td>\n",
       "      <td>2010.707262</td>\n",
       "      <td>0.722449</td>\n",
       "      <td>6.119695e+03</td>\n",
       "    </tr>\n",
       "    <tr>\n",
       "      <th>std</th>\n",
       "      <td>5.584060e+07</td>\n",
       "      <td>12.312176</td>\n",
       "      <td>0.447797</td>\n",
       "      <td>7.407840e+04</td>\n",
       "    </tr>\n",
       "    <tr>\n",
       "      <th>min</th>\n",
       "      <td>0.000000e+00</td>\n",
       "      <td>0.000000</td>\n",
       "      <td>0.000000</td>\n",
       "      <td>0.000000e+00</td>\n",
       "    </tr>\n",
       "    <tr>\n",
       "      <th>25%</th>\n",
       "      <td>7.149500e+04</td>\n",
       "      <td>2009.000000</td>\n",
       "      <td>0.000000</td>\n",
       "      <td>1.500000e+03</td>\n",
       "    </tr>\n",
       "    <tr>\n",
       "      <th>50%</th>\n",
       "      <td>1.290000e+05</td>\n",
       "      <td>2012.000000</td>\n",
       "      <td>1.000000</td>\n",
       "      <td>4.000000e+03</td>\n",
       "    </tr>\n",
       "    <tr>\n",
       "      <th>75%</th>\n",
       "      <td>1.905522e+05</td>\n",
       "      <td>2014.000000</td>\n",
       "      <td>1.000000</td>\n",
       "      <td>7.000000e+03</td>\n",
       "    </tr>\n",
       "    <tr>\n",
       "      <th>max</th>\n",
       "      <td>2.147484e+09</td>\n",
       "      <td>2020.000000</td>\n",
       "      <td>1.000000</td>\n",
       "      <td>8.388607e+06</td>\n",
       "    </tr>\n",
       "  </tbody>\n",
       "</table>\n",
       "</div>"
      ],
      "text/plain": [
       "       current_mileage  vehicle_year  car_leather_interior   final_price\n",
       "count     3.437200e+04  34372.000000          34372.000000  3.437200e+04\n",
       "mean      1.907385e+06   2010.707262              0.722449  6.119695e+03\n",
       "std       5.584060e+07     12.312176              0.447797  7.407840e+04\n",
       "min       0.000000e+00      0.000000              0.000000  0.000000e+00\n",
       "25%       7.149500e+04   2009.000000              0.000000  1.500000e+03\n",
       "50%       1.290000e+05   2012.000000              1.000000  4.000000e+03\n",
       "75%       1.905522e+05   2014.000000              1.000000  7.000000e+03\n",
       "max       2.147484e+09   2020.000000              1.000000  8.388607e+06"
      ]
     },
     "execution_count": 235,
     "metadata": {},
     "output_type": "execute_result"
    }
   ],
   "source": [
    "data.describe()"
   ]
  },
  {
   "cell_type": "code",
   "execution_count": 266,
   "id": "647ea14a",
   "metadata": {},
   "outputs": [],
   "source": [
    "def clean_data (data):\n",
    "    data.drop(data[data.final_price==8.388607e+06].index, axis=0, inplace = True)\n",
    "    data.drop(data[data.final_price==6.666666e+06].index, axis=0, inplace = True)\n",
    "    data.drop(data[data.final_price==1.111111e+06].index, axis=0, inplace = True)\n",
    "    data.drop(data[data.final_price==0.000000].index, axis=0, inplace = True)\n",
    "    data.drop(data[data.final_price==1.000000].index, axis=0, inplace = True)\n",
    "    data.drop(data[data.current_mileage > 9e+06].index, axis=0, inplace = True)\n",
    "    data.drop(data[data.vehicle_year == 0].index, axis=0, inplace = True)\n",
    "    data.drop(data[data.deal_type == 'For Rent'].index, axis=0, inplace = True)\n",
    "    data.dropna(inplace=True)\n",
    "    return data\n"
   ]
  },
  {
   "cell_type": "code",
   "execution_count": 267,
   "id": "4a713535",
   "metadata": {},
   "outputs": [],
   "source": [
    "data = clean_data(data)"
   ]
  },
  {
   "cell_type": "code",
   "execution_count": 268,
   "id": "c664f39a",
   "metadata": {},
   "outputs": [
    {
     "data": {
      "text/plain": [
       "array(['HYUNDAI', 'TOYOTA', 'BMW', 'MAZDA', 'NISSAN', 'DODGE', 'MINI',\n",
       "       'CHEVROLET', 'MITSUBISHI', 'MERCEDES-BENZ', 'LEXUS', 'VOLKSWAGEN',\n",
       "       'JEEP', 'HONDA', 'FORD', 'OPEL', 'AUDI', 'KIA', 'SUBARU', 'FIAT',\n",
       "       'LAND ROVER', 'VAZ', 'PORSCHE', 'INFINITI', 'SSANGYONG',\n",
       "       'ASTON MARTIN', 'JAGUAR', 'SUZUKI', 'LINCOLN', 'CHRYSLER', 'SKODA',\n",
       "       'VOLVO', 'MG', 'BUICK', 'CADILLAC', 'GREATWALL', 'DAIHATSU',\n",
       "       'SEAT', 'RENAULT', 'MERCURY', 'FERRARI'], dtype=object)"
      ]
     },
     "execution_count": 268,
     "metadata": {},
     "output_type": "execute_result"
    }
   ],
   "source": [
    "data.vehicle_manufacturer.unique()"
   ]
  },
  {
   "cell_type": "code",
   "execution_count": 275,
   "id": "8fbec26c",
   "metadata": {},
   "outputs": [
    {
     "data": {
      "text/plain": [
       "array([' Silver ', ' White ', ' Grey ', ' Black ', ' Carnelian red ',\n",
       "       ' Blue ', ' Sky blue ', ' Golden ', ' Brown ', ' Red ', ' Beige ',\n",
       "       ' Green ', ' Pink ', ' Orange ', ' Yellow ', ' Purple '],\n",
       "      dtype=object)"
      ]
     },
     "execution_count": 275,
     "metadata": {},
     "output_type": "execute_result"
    }
   ],
   "source": [
    "data.vehicle_color.unique()"
   ]
  },
  {
   "cell_type": "code",
   "execution_count": 237,
   "id": "e69d38b5",
   "metadata": {},
   "outputs": [
    {
     "name": "stdout",
     "output_type": "stream",
     "text": [
      "<class 'pandas.core.frame.DataFrame'>\n",
      "Index: 33191 entries, 0 to 34999\n",
      "Data columns (total 10 columns):\n",
      " #   Column                Non-Null Count  Dtype  \n",
      "---  ------                --------------  -----  \n",
      " 0   vehicle_manufacturer  33191 non-null  object \n",
      " 1   vehicle_category      33191 non-null  object \n",
      " 2   current_mileage       33191 non-null  int64  \n",
      " 3   vehicle_year          33191 non-null  int64  \n",
      " 4   vehicle_gearbox_type  33191 non-null  object \n",
      " 5   doors_cnt             33191 non-null  object \n",
      " 6   wheels                33191 non-null  object \n",
      " 7   vehicle_color         33191 non-null  object \n",
      " 8   car_leather_interior  33191 non-null  int64  \n",
      " 9   final_price           33191 non-null  float64\n",
      "dtypes: float64(1), int64(3), object(6)\n",
      "memory usage: 2.8+ MB\n"
     ]
    }
   ],
   "source": [
    "data.info()"
   ]
  },
  {
   "cell_type": "code",
   "execution_count": 239,
   "id": "caa7ecdd",
   "metadata": {},
   "outputs": [
    {
     "data": {
      "text/html": [
       "<div>\n",
       "<style scoped>\n",
       "    .dataframe tbody tr th:only-of-type {\n",
       "        vertical-align: middle;\n",
       "    }\n",
       "\n",
       "    .dataframe tbody tr th {\n",
       "        vertical-align: top;\n",
       "    }\n",
       "\n",
       "    .dataframe thead th {\n",
       "        text-align: right;\n",
       "    }\n",
       "</style>\n",
       "<table border=\"1\" class=\"dataframe\">\n",
       "  <thead>\n",
       "    <tr style=\"text-align: right;\">\n",
       "      <th></th>\n",
       "      <th>current_mileage</th>\n",
       "      <th>vehicle_year</th>\n",
       "      <th>car_leather_interior</th>\n",
       "      <th>final_price</th>\n",
       "    </tr>\n",
       "  </thead>\n",
       "  <tbody>\n",
       "    <tr>\n",
       "      <th>count</th>\n",
       "      <td>3.319100e+04</td>\n",
       "      <td>33191.000000</td>\n",
       "      <td>33191.000000</td>\n",
       "      <td>33191.000000</td>\n",
       "    </tr>\n",
       "    <tr>\n",
       "      <th>mean</th>\n",
       "      <td>1.493564e+05</td>\n",
       "      <td>2010.617216</td>\n",
       "      <td>0.714621</td>\n",
       "      <td>5407.515441</td>\n",
       "    </tr>\n",
       "    <tr>\n",
       "      <th>std</th>\n",
       "      <td>1.798588e+05</td>\n",
       "      <td>5.790845</td>\n",
       "      <td>0.451601</td>\n",
       "      <td>5970.930635</td>\n",
       "    </tr>\n",
       "    <tr>\n",
       "      <th>min</th>\n",
       "      <td>0.000000e+00</td>\n",
       "      <td>1940.000000</td>\n",
       "      <td>0.000000</td>\n",
       "      <td>2.000000</td>\n",
       "    </tr>\n",
       "    <tr>\n",
       "      <th>25%</th>\n",
       "      <td>7.447600e+04</td>\n",
       "      <td>2008.000000</td>\n",
       "      <td>0.000000</td>\n",
       "      <td>1600.000000</td>\n",
       "    </tr>\n",
       "    <tr>\n",
       "      <th>50%</th>\n",
       "      <td>1.300000e+05</td>\n",
       "      <td>2012.000000</td>\n",
       "      <td>1.000000</td>\n",
       "      <td>4000.000000</td>\n",
       "    </tr>\n",
       "    <tr>\n",
       "      <th>75%</th>\n",
       "      <td>1.920000e+05</td>\n",
       "      <td>2014.000000</td>\n",
       "      <td>1.000000</td>\n",
       "      <td>7000.000000</td>\n",
       "    </tr>\n",
       "    <tr>\n",
       "      <th>max</th>\n",
       "      <td>8.558222e+06</td>\n",
       "      <td>2020.000000</td>\n",
       "      <td>1.000000</td>\n",
       "      <td>200000.000000</td>\n",
       "    </tr>\n",
       "  </tbody>\n",
       "</table>\n",
       "</div>"
      ],
      "text/plain": [
       "       current_mileage  vehicle_year  car_leather_interior    final_price\n",
       "count     3.319100e+04  33191.000000          33191.000000   33191.000000\n",
       "mean      1.493564e+05   2010.617216              0.714621    5407.515441\n",
       "std       1.798588e+05      5.790845              0.451601    5970.930635\n",
       "min       0.000000e+00   1940.000000              0.000000       2.000000\n",
       "25%       7.447600e+04   2008.000000              0.000000    1600.000000\n",
       "50%       1.300000e+05   2012.000000              1.000000    4000.000000\n",
       "75%       1.920000e+05   2014.000000              1.000000    7000.000000\n",
       "max       8.558222e+06   2020.000000              1.000000  200000.000000"
      ]
     },
     "execution_count": 239,
     "metadata": {},
     "output_type": "execute_result"
    }
   ],
   "source": [
    "data.describe()"
   ]
  },
  {
   "cell_type": "code",
   "execution_count": null,
   "id": "0de1c5b2",
   "metadata": {},
   "outputs": [],
   "source": [
    "numeric_features = ['current_mileage', 'vehicle_year', 'car_leather_interior']\n",
    "categorical_features = ['vehicle_manufacturer', 'vehicle_model', 'vehicle_category',\n",
    "                       'vehicle_gearbox_type', 'wheels', 'vehicle_color',\n",
    "                       'car_interior_color', 'doors_cnt']\n",
    "target_feature = 'final_price'"
   ]
  },
  {
   "cell_type": "code",
   "execution_count": null,
   "id": "b7d16db5",
   "metadata": {},
   "outputs": [],
   "source": [
    "from sklearn.preprocessing import StandardScaler\n",
    "from sklearn.model_selection import train_test_split\n",
    "\n",
    "def split_data(data, target_feature, test_size=0.2, standart_scaler=True):\n",
    "    if standart_scaler:\n",
    "        st = StandardScaler()\n",
    "        data_standart = st.fit_transform(data)\n",
    "    else:\n",
    "        data_standart = data\n",
    "    X_train, X_test, y_train, y_test = train_test_split(data_standart, target_feature, test_size=test_size, random_state=42)\n",
    "    return X_train, X_test, y_train, y_test\n",
    "\n",
    "\n",
    "# X_train, X_test, y_train, y_test = split_data(data, target_feature, test_size=0.2, standart_scaler=False)"
   ]
  },
  {
   "cell_type": "code",
   "execution_count": 243,
   "id": "72dd2bb0",
   "metadata": {},
   "outputs": [],
   "source": [
    "X_train, X_test, y_train, y_test = split_data(data[numeric_features], data[target_feature], test_size=0.2, standart_scaler=True)"
   ]
  },
  {
   "cell_type": "code",
   "execution_count": 244,
   "id": "9262b3a9",
   "metadata": {},
   "outputs": [
    {
     "data": {
      "text/plain": [
       "0.07432285109133052"
      ]
     },
     "execution_count": 244,
     "metadata": {},
     "output_type": "execute_result"
    }
   ],
   "source": [
    "from sklearn.tree import DecisionTreeRegressor\n",
    "from sklearn.metrics import r2_score\n",
    "model_dt = DecisionTreeRegressor(random_state=42)\n",
    "model_dt.fit(X_train, y_train)\n",
    "predictions = model_dt.predict(X_test)\n",
    "r2_score(y_test, predictions)"
   ]
  },
  {
   "cell_type": "code",
   "execution_count": 245,
   "id": "c607beea",
   "metadata": {},
   "outputs": [],
   "source": [
    "from sklearn.preprocessing import LabelEncoder\n",
    "label_encoder = LabelEncoder()\n",
    "data['vehicle_manufacturer'] = label_encoder.fit_transform(data['vehicle_manufacturer'])\n",
    "# data['vehicle_model'] = label_encoder.fit_transform(data['vehicle_model'])\n",
    "data['vehicle_category'] = label_encoder.fit_transform(data['vehicle_category'])\n",
    "data['vehicle_gearbox_type'] = label_encoder.fit_transform(data['vehicle_gearbox_type'])\n",
    "data['wheels'] = label_encoder.fit_transform(data['wheels'])\n",
    "data['vehicle_color'] = label_encoder.fit_transform(data['vehicle_color'])\n",
    "data['doors_cnt'] = label_encoder.fit_transform(data['doors_cnt'])"
   ]
  },
  {
   "cell_type": "code",
   "execution_count": 246,
   "id": "d1e58027",
   "metadata": {},
   "outputs": [
    {
     "data": {
      "text/html": [
       "<div>\n",
       "<style scoped>\n",
       "    .dataframe tbody tr th:only-of-type {\n",
       "        vertical-align: middle;\n",
       "    }\n",
       "\n",
       "    .dataframe tbody tr th {\n",
       "        vertical-align: top;\n",
       "    }\n",
       "\n",
       "    .dataframe thead th {\n",
       "        text-align: right;\n",
       "    }\n",
       "</style>\n",
       "<table border=\"1\" class=\"dataframe\">\n",
       "  <thead>\n",
       "    <tr style=\"text-align: right;\">\n",
       "      <th></th>\n",
       "      <th>vehicle_manufacturer</th>\n",
       "      <th>vehicle_category</th>\n",
       "      <th>current_mileage</th>\n",
       "      <th>vehicle_year</th>\n",
       "      <th>vehicle_gearbox_type</th>\n",
       "      <th>doors_cnt</th>\n",
       "      <th>wheels</th>\n",
       "      <th>vehicle_color</th>\n",
       "      <th>car_leather_interior</th>\n",
       "      <th>final_price</th>\n",
       "    </tr>\n",
       "  </thead>\n",
       "  <tbody>\n",
       "    <tr>\n",
       "      <th>0</th>\n",
       "      <td>60</td>\n",
       "      <td>9</td>\n",
       "      <td>133000</td>\n",
       "      <td>2014</td>\n",
       "      <td>0</td>\n",
       "      <td>1</td>\n",
       "      <td>1</td>\n",
       "      <td>12</td>\n",
       "      <td>0</td>\n",
       "      <td>3650.0</td>\n",
       "    </tr>\n",
       "    <tr>\n",
       "      <th>1</th>\n",
       "      <td>37</td>\n",
       "      <td>9</td>\n",
       "      <td>24500</td>\n",
       "      <td>2010</td>\n",
       "      <td>1</td>\n",
       "      <td>1</td>\n",
       "      <td>0</td>\n",
       "      <td>12</td>\n",
       "      <td>0</td>\n",
       "      <td>6800.0</td>\n",
       "    </tr>\n",
       "    <tr>\n",
       "      <th>2</th>\n",
       "      <td>23</td>\n",
       "      <td>3</td>\n",
       "      <td>31000</td>\n",
       "      <td>2016</td>\n",
       "      <td>2</td>\n",
       "      <td>0</td>\n",
       "      <td>0</td>\n",
       "      <td>12</td>\n",
       "      <td>1</td>\n",
       "      <td>6300.0</td>\n",
       "    </tr>\n",
       "    <tr>\n",
       "      <th>3</th>\n",
       "      <td>23</td>\n",
       "      <td>4</td>\n",
       "      <td>115459</td>\n",
       "      <td>2015</td>\n",
       "      <td>0</td>\n",
       "      <td>1</td>\n",
       "      <td>0</td>\n",
       "      <td>2</td>\n",
       "      <td>1</td>\n",
       "      <td>14488.0</td>\n",
       "    </tr>\n",
       "    <tr>\n",
       "      <th>4</th>\n",
       "      <td>60</td>\n",
       "      <td>4</td>\n",
       "      <td>18950</td>\n",
       "      <td>2019</td>\n",
       "      <td>0</td>\n",
       "      <td>1</td>\n",
       "      <td>0</td>\n",
       "      <td>1</td>\n",
       "      <td>1</td>\n",
       "      <td>5000.0</td>\n",
       "    </tr>\n",
       "    <tr>\n",
       "      <th>...</th>\n",
       "      <td>...</td>\n",
       "      <td>...</td>\n",
       "      <td>...</td>\n",
       "      <td>...</td>\n",
       "      <td>...</td>\n",
       "      <td>...</td>\n",
       "      <td>...</td>\n",
       "      <td>...</td>\n",
       "      <td>...</td>\n",
       "      <td>...</td>\n",
       "    </tr>\n",
       "    <tr>\n",
       "      <th>34995</th>\n",
       "      <td>16</td>\n",
       "      <td>9</td>\n",
       "      <td>87579</td>\n",
       "      <td>2013</td>\n",
       "      <td>0</td>\n",
       "      <td>1</td>\n",
       "      <td>0</td>\n",
       "      <td>1</td>\n",
       "      <td>1</td>\n",
       "      <td>6000.0</td>\n",
       "    </tr>\n",
       "    <tr>\n",
       "      <th>34996</th>\n",
       "      <td>55</td>\n",
       "      <td>4</td>\n",
       "      <td>116092</td>\n",
       "      <td>2009</td>\n",
       "      <td>0</td>\n",
       "      <td>1</td>\n",
       "      <td>0</td>\n",
       "      <td>12</td>\n",
       "      <td>1</td>\n",
       "      <td>9642.0</td>\n",
       "    </tr>\n",
       "    <tr>\n",
       "      <th>34997</th>\n",
       "      <td>5</td>\n",
       "      <td>9</td>\n",
       "      <td>43000</td>\n",
       "      <td>2015</td>\n",
       "      <td>2</td>\n",
       "      <td>1</td>\n",
       "      <td>0</td>\n",
       "      <td>7</td>\n",
       "      <td>1</td>\n",
       "      <td>23500.0</td>\n",
       "    </tr>\n",
       "    <tr>\n",
       "      <th>34998</th>\n",
       "      <td>23</td>\n",
       "      <td>4</td>\n",
       "      <td>82139</td>\n",
       "      <td>2015</td>\n",
       "      <td>0</td>\n",
       "      <td>1</td>\n",
       "      <td>0</td>\n",
       "      <td>14</td>\n",
       "      <td>1</td>\n",
       "      <td>12826.0</td>\n",
       "    </tr>\n",
       "    <tr>\n",
       "      <th>34999</th>\n",
       "      <td>60</td>\n",
       "      <td>9</td>\n",
       "      <td>237178</td>\n",
       "      <td>2015</td>\n",
       "      <td>0</td>\n",
       "      <td>1</td>\n",
       "      <td>0</td>\n",
       "      <td>2</td>\n",
       "      <td>1</td>\n",
       "      <td>1050.0</td>\n",
       "    </tr>\n",
       "  </tbody>\n",
       "</table>\n",
       "<p>33191 rows × 10 columns</p>\n",
       "</div>"
      ],
      "text/plain": [
       "       vehicle_manufacturer  vehicle_category  current_mileage  vehicle_year  \\\n",
       "0                        60                 9           133000          2014   \n",
       "1                        37                 9            24500          2010   \n",
       "2                        23                 3            31000          2016   \n",
       "3                        23                 4           115459          2015   \n",
       "4                        60                 4            18950          2019   \n",
       "...                     ...               ...              ...           ...   \n",
       "34995                    16                 9            87579          2013   \n",
       "34996                    55                 4           116092          2009   \n",
       "34997                     5                 9            43000          2015   \n",
       "34998                    23                 4            82139          2015   \n",
       "34999                    60                 9           237178          2015   \n",
       "\n",
       "       vehicle_gearbox_type  doors_cnt  wheels  vehicle_color  \\\n",
       "0                         0          1       1             12   \n",
       "1                         1          1       0             12   \n",
       "2                         2          0       0             12   \n",
       "3                         0          1       0              2   \n",
       "4                         0          1       0              1   \n",
       "...                     ...        ...     ...            ...   \n",
       "34995                     0          1       0              1   \n",
       "34996                     0          1       0             12   \n",
       "34997                     2          1       0              7   \n",
       "34998                     0          1       0             14   \n",
       "34999                     0          1       0              2   \n",
       "\n",
       "       car_leather_interior  final_price  \n",
       "0                         0       3650.0  \n",
       "1                         0       6800.0  \n",
       "2                         1       6300.0  \n",
       "3                         1      14488.0  \n",
       "4                         1       5000.0  \n",
       "...                     ...          ...  \n",
       "34995                     1       6000.0  \n",
       "34996                     1       9642.0  \n",
       "34997                     1      23500.0  \n",
       "34998                     1      12826.0  \n",
       "34999                     1       1050.0  \n",
       "\n",
       "[33191 rows x 10 columns]"
      ]
     },
     "execution_count": 246,
     "metadata": {},
     "output_type": "execute_result"
    }
   ],
   "source": [
    "data"
   ]
  },
  {
   "cell_type": "code",
   "execution_count": 248,
   "id": "327c782e",
   "metadata": {},
   "outputs": [
    {
     "data": {
      "text/plain": [
       "0.30941094763216526"
      ]
     },
     "execution_count": 248,
     "metadata": {},
     "output_type": "execute_result"
    }
   ],
   "source": [
    "X_train, X_test, y_train, y_test = split_data(data.drop(columns=['final_price'], axis = 1), data[target_feature], test_size=0.2, standart_scaler=True)\n",
    "model_dt = DecisionTreeRegressor(random_state=42)\n",
    "model_dt.fit(X_train, y_train)\n",
    "predictions = model_dt.predict(X_test)\n",
    "r2_score(y_test, predictions)"
   ]
  },
  {
   "cell_type": "code",
   "execution_count": 249,
   "id": "e70e60d5",
   "metadata": {},
   "outputs": [
    {
     "data": {
      "text/plain": [
       "0.14616753826593154"
      ]
     },
     "execution_count": 249,
     "metadata": {},
     "output_type": "execute_result"
    }
   ],
   "source": [
    "from sklearn.linear_model import LinearRegression\n",
    "linear_regression = LinearRegression()\n",
    "linear_regression.fit(X_train, y_train)\n",
    "predictions = linear_regression.predict(X_test)\n",
    "r2_score(y_test, predictions)\n"
   ]
  },
  {
   "cell_type": "code",
   "execution_count": 253,
   "id": "129ec1ae",
   "metadata": {},
   "outputs": [
    {
     "data": {
      "text/plain": [
       "0.5503102679104681"
      ]
     },
     "execution_count": 253,
     "metadata": {},
     "output_type": "execute_result"
    }
   ],
   "source": [
    "from sklearn.ensemble import RandomForestRegressor\n",
    "random_forest = RandomForestRegressor(n_estimators=100, random_state=42)\n",
    "random_forest.fit(X_train, y_train)\n",
    "predictions = random_forest.predict(X_test)\n",
    "r2_score(y_test, predictions)\n",
    "    "
   ]
  },
  {
   "cell_type": "code",
   "execution_count": 251,
   "id": "45ede98e",
   "metadata": {},
   "outputs": [
    {
     "data": {
      "text/plain": [
       "0.4230978842036788"
      ]
     },
     "execution_count": 251,
     "metadata": {},
     "output_type": "execute_result"
    }
   ],
   "source": [
    "from sklearn.neighbors import KNeighborsRegressor\n",
    "knn = KNeighborsRegressor(n_neighbors=30)\n",
    "knn.fit(X_train, y_train)\n",
    "predictions = knn.predict(X_test)\n",
    "r2_score(y_test, predictions)\n",
    "\n"
   ]
  },
  {
   "cell_type": "code",
   "execution_count": null,
   "id": "a2a43a05",
   "metadata": {},
   "outputs": [
    {
     "data": {
      "text/plain": [
       "0.39082793218316825"
      ]
     },
     "execution_count": 252,
     "metadata": {},
     "output_type": "execute_result"
    }
   ],
   "source": [
    "from sklearn.ensemble import GradientBoostingRegressor\n",
    "boosting = GradientBoostingRegressor(random_state=42)\n",
    "boosting.fit(X_train, y_train)\n",
    "predictions = boosting.predict(X_test)\n",
    "r2_score(y_test, predictions)"
   ]
  },
  {
   "cell_type": "code",
   "execution_count": 255,
   "id": "ec2253f2",
   "metadata": {},
   "outputs": [
    {
     "data": {
      "text/plain": [
       "Index(['vehicle_manufacturer', 'vehicle_category', 'current_mileage',\n",
       "       'vehicle_year', 'vehicle_gearbox_type', 'doors_cnt', 'wheels',\n",
       "       'vehicle_color', 'car_leather_interior', 'final_price'],\n",
       "      dtype='object')"
      ]
     },
     "execution_count": 255,
     "metadata": {},
     "output_type": "execute_result"
    }
   ],
   "source": [
    "data.columns"
   ]
  },
  {
   "cell_type": "code",
   "execution_count": 262,
   "id": "4392a382",
   "metadata": {},
   "outputs": [
    {
     "name": "stdout",
     "output_type": "stream",
     "text": [
      "Модель и preprocessing pipeline успешно сохранены!\n"
     ]
    }
   ],
   "source": [
    "# Предположим, что best_model - наша лучшая модель после GridSearch\n",
    "# Создаем pipeline для сохранения всей логики preprocessing\n",
    "\n",
    "# Определяем числовые и категориальные признаки\n",
    "from sklearn.compose import ColumnTransformer\n",
    "from sklearn.preprocessing import OneHotEncoder\n",
    "from sklearn.pipeline import Pipeline\n",
    "import joblib  \n",
    "import pickle\n",
    "\n",
    "\n",
    "best_model = RandomForestRegressor(n_estimators=100, random_state=42)\n",
    "numeric_features = ['current_mileage', 'vehicle_year', 'car_leather_interior']\n",
    "\n",
    "categorical_features = ['vehicle_manufacturer', 'vehicle_category',\n",
    "                       'vehicle_gearbox_type', 'doors_cnt', 'wheels', 'vehicle_color']\n",
    "\n",
    "# Создаем preprocessing pipeline\n",
    "preprocessor = ColumnTransformer(\n",
    "    transformers=[\n",
    "        ('num', StandardScaler(), numeric_features),\n",
    "        ('cat', OneHotEncoder(drop='first', handle_unknown='ignore'), categorical_features)\n",
    "    ])\n",
    "\n",
    "# Создаем полный pipeline\n",
    "full_pipeline = Pipeline([\n",
    "    ('preprocessor', preprocessor),\n",
    "    ('regressor', best_model)  # ваша лучшая модель\n",
    "])\n",
    "\n",
    "url = 'https://drive.google.com/uc?export=download&id=1keuahH9Lw6jwEL3BesW25XWuQrzIiiuV'\n",
    "data = pd.read_csv(url)\n",
    "data = clean_data(data)\n",
    "\n",
    "# Обучаем pipeline на всех данных\n",
    "X = data.drop('final_price', axis=1)\n",
    "y = data['final_price']\n",
    "full_pipeline.fit(X, y)\n",
    "\n",
    "# Сохраняем pipeline\n",
    "joblib.dump(full_pipeline, 'car_price_pipeline.pkl')\n",
    "\n",
    "# Также сохраняем список feature names для валидации ввода\n",
    "feature_names = X.columns.tolist()\n",
    "with open('feature_names.pkl', 'wb') as f:\n",
    "    pickle.dump(feature_names, f)\n",
    "\n",
    "print(\"Модель и preprocessing pipeline успешно сохранены!\")"
   ]
  },
  {
   "cell_type": "code",
   "execution_count": null,
   "id": "8849ed97",
   "metadata": {},
   "outputs": [],
   "source": []
  },
  {
   "cell_type": "code",
   "execution_count": null,
   "id": "18a5e485",
   "metadata": {},
   "outputs": [],
   "source": []
  },
  {
   "cell_type": "code",
   "execution_count": null,
   "id": "561233eb",
   "metadata": {},
   "outputs": [],
   "source": []
  }
 ],
 "metadata": {
  "kernelspec": {
   "display_name": "venv",
   "language": "python",
   "name": "python3"
  },
  "language_info": {
   "codemirror_mode": {
    "name": "ipython",
    "version": 3
   },
   "file_extension": ".py",
   "mimetype": "text/x-python",
   "name": "python",
   "nbconvert_exporter": "python",
   "pygments_lexer": "ipython3",
   "version": "3.10.9"
  }
 },
 "nbformat": 4,
 "nbformat_minor": 5
}
